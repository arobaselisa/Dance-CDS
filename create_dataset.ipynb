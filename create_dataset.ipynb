{
 "cells": [
  {
   "cell_type": "markdown",
   "metadata": {},
   "source": [
    "# Creating the Dataset\n",
    "\n",
    "This notebook creates, from the c3d complete data, all the files required for both the regression and the Cables visualisation later, keeping only the points that are of interest for our project."
   ]
  },
  {
   "cell_type": "code",
   "execution_count": 2,
   "metadata": {},
   "outputs": [],
   "source": [
    "import c3d\n",
    "import pandas as pd\n",
    "import numpy as np\n",
    "import os\n",
    "import json"
   ]
  },
  {
   "cell_type": "code",
   "execution_count": 34,
   "metadata": {},
   "outputs": [],
   "source": [
    "# Handy function to read a c3d file to a DataFrame\n",
    "def read_c3d_file(filename):\n",
    "\n",
    "    reader = c3d.Reader(open(filename, 'rb'))\n",
    "\n",
    "    rows_list = []\n",
    "    for i, points, analog in reader.read_frames():\n",
    "            dict1 = {}\n",
    "            # get input row in dictionary format\n",
    "            dict1.update({\"Frame\" : i, \"Points\" : points}) \n",
    "            rows_list.append(dict1)\n",
    "            \n",
    "    return pd.DataFrame(rows_list)    "
   ]
  },
  {
   "cell_type": "code",
   "execution_count": 130,
   "metadata": {},
   "outputs": [],
   "source": [
    "# Gets the coordinates we are interested in from the list of all cooridnates\n",
    "def get_coordinates(filename, points):\n",
    "    df = read_c3d_file(filename)\n",
    "    \n",
    "    coordinates = np.empty((1,3,len(df.index)))\n",
    "    \n",
    "    for point in points:\n",
    "        points_motion = pd.DataFrame(df['Points']).stack().str[point].unstack()['Points']\n",
    "        X = pd.DataFrame(points_motion).stack().str[0].unstack()['Points']\n",
    "        Y = pd.DataFrame(points_motion).stack().str[1].unstack()['Points']\n",
    "        Z = pd.DataFrame(points_motion).stack().str[2].unstack()['Points']\n",
    "        XYZ = np.array([X,Y,Z])\n",
    "        coordinates = np.concatenate([coordinates, [XYZ]], axis=0)\n",
    "    np.save(os.path.splitext(filename)[0] +'.npy', coordinates)\n",
    "    return coordinates"
   ]
  },
  {
   "cell_type": "code",
   "execution_count": 133,
   "metadata": {},
   "outputs": [],
   "source": [
    "# Reads through all the directory to process all the files\n",
    "for filename in os.listdir('./Data/c3d'):\n",
    "    if filename.endswith(\".c3d\"):\n",
    "        get_coordinates('./Data/c3d/'+filename, [2, 8, 17, 26])[1:]  # 2,8,17 and 26 correspond respectively to the \n",
    "                                                                     # right foot, left foot, right hand, left hand\n",
    "        continue\n",
    "    else:\n",
    "        continue"
   ]
  },
  {
   "cell_type": "code",
   "execution_count": 11,
   "metadata": {},
   "outputs": [],
   "source": [
    "# To convert from numpy array to json, useful for Cables\n",
    "def change_format(file):\n",
    "    arr = np.load(file)\n",
    "    l = arr.tolist()\n",
    "    with open('./Data/c3d/'+ os.path.splitext(filename)[0] + '.json', 'w') as f:\n",
    "        json.dump(l, f)"
   ]
  },
  {
   "cell_type": "code",
   "execution_count": 12,
   "metadata": {},
   "outputs": [],
   "source": [
    "# Change format for Cables\n",
    "for filename in os.listdir('./Data/c3d'):\n",
    "    if filename.endswith(\".npy\"):\n",
    "        change_format('./Data/c3d/'+filename)\n",
    "        continue\n",
    "    else:\n",
    "        continue"
   ]
  }
 ],
 "metadata": {
  "kernelspec": {
   "display_name": "Python 3",
   "language": "python",
   "name": "python3"
  },
  "language_info": {
   "codemirror_mode": {
    "name": "ipython",
    "version": 3
   },
   "file_extension": ".py",
   "mimetype": "text/x-python",
   "name": "python",
   "nbconvert_exporter": "python",
   "pygments_lexer": "ipython3",
   "version": "3.8.3"
  }
 },
 "nbformat": 4,
 "nbformat_minor": 4
}
