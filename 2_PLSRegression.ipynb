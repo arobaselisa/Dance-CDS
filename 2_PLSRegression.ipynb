{
 "cells": [
  {
   "cell_type": "markdown",
   "metadata": {},
   "source": [
    "# Partial Least Square Regression\n",
    "\n",
    "This notebook does the PLS Regression, to map the dances into a 2D plan, based on their emotions."
   ]
  },
  {
   "cell_type": "code",
   "execution_count": 1,
   "metadata": {},
   "outputs": [],
   "source": [
    "import c3d\n",
    "import pandas as pd\n",
    "import numpy as np\n",
    "import os\n",
    "import json\n",
    "from sklearn.decomposition import PCA\n",
    "import matplotlib.pyplot as plt"
   ]
  },
  {
   "cell_type": "markdown",
   "metadata": {},
   "source": [
    "Loading the data, getting the maximum length among the dances"
   ]
  },
  {
   "cell_type": "code",
   "execution_count": 2,
   "metadata": {},
   "outputs": [
    {
     "name": "stdout",
     "output_type": "stream",
     "text": [
      "134830\n"
     ]
    }
   ],
   "source": [
    "\n",
    "max_length = 0\n",
    "\n",
    "for filename in os.listdir('./Data/c3d'):\n",
    "    if filename.endswith(\".npy\"):\n",
    "        arr = np.load('./Data/c3d/'+filename)[1:]\n",
    "        if np.shape(arr)[2] > max_length:\n",
    "            max_length = np.shape(arr)[2]\n",
    "        continue\n",
    "    else:\n",
    "        continue\n",
    "print(max_length)"
   ]
  },
  {
   "cell_type": "code",
   "execution_count": 3,
   "metadata": {
    "scrolled": true
   },
   "outputs": [],
   "source": [
    "total_array = np.empty((12*max_length))\n",
    "labels = []\n",
    "\n",
    "with open('./Data/emotions.json') as json_file:\n",
    "    data = json.load(json_file)\n",
    "    for filename, emotion in data.items():\n",
    "        arr = np.load('./Data/c3d/'+filename)[1:]\n",
    "        arr = np.resize(arr, (4,3,max_length))\n",
    "        arr = arr.reshape((12 * max_length)) # Wrapping so that each dance is of the same (maximum) one\n",
    "        total_array = np.vstack((total_array, arr))\n",
    "        labels = labels + [emotion]\n"
   ]
  },
  {
   "cell_type": "code",
   "execution_count": 4,
   "metadata": {
    "scrolled": true
   },
   "outputs": [
    {
     "name": "stdout",
     "output_type": "stream",
     "text": [
      "(129, 1617960)\n",
      "(129,)\n"
     ]
    }
   ],
   "source": [
    "total_array = total_array[1:]\n",
    "print(np.shape(total_array))\n",
    "print(np.shape(labels))"
   ]
  },
  {
   "cell_type": "markdown",
   "metadata": {},
   "source": [
    "Managing the emotion list, attributing each dance to its emotion"
   ]
  },
  {
   "cell_type": "code",
   "execution_count": 5,
   "metadata": {},
   "outputs": [
    {
     "data": {
      "text/plain": [
       "[5,\n",
       " 1,\n",
       " 7,\n",
       " 1,\n",
       " 18,\n",
       " 4,\n",
       " 13,\n",
       " 1,\n",
       " 15,\n",
       " 9,\n",
       " 13,\n",
       " 1,\n",
       " 3,\n",
       " 9,\n",
       " 13,\n",
       " 13,\n",
       " 14,\n",
       " 8,\n",
       " 13,\n",
       " 15,\n",
       " 12,\n",
       " 11,\n",
       " 13,\n",
       " 9,\n",
       " 16,\n",
       " 2,\n",
       " 5,\n",
       " 7,\n",
       " 9,\n",
       " 1,\n",
       " 13,\n",
       " 14,\n",
       " 2,\n",
       " 2,\n",
       " 3,\n",
       " 7,\n",
       " 8,\n",
       " 12,\n",
       " 18,\n",
       " 5,\n",
       " 3,\n",
       " 0,\n",
       " 15,\n",
       " 14,\n",
       " 8,\n",
       " 16,\n",
       " 8,\n",
       " 5,\n",
       " 7,\n",
       " 15,\n",
       " 5,\n",
       " 16,\n",
       " 5,\n",
       " 18,\n",
       " 7,\n",
       " 18,\n",
       " 14,\n",
       " 2,\n",
       " 14,\n",
       " 18,\n",
       " 16,\n",
       " 14,\n",
       " 3,\n",
       " 9,\n",
       " 12,\n",
       " 18,\n",
       " 8,\n",
       " 3,\n",
       " 14,\n",
       " 2,\n",
       " 9,\n",
       " 15,\n",
       " 14,\n",
       " 2,\n",
       " 8,\n",
       " 1,\n",
       " 7,\n",
       " 10,\n",
       " 1,\n",
       " 8,\n",
       " 6,\n",
       " 9,\n",
       " 8,\n",
       " 10,\n",
       " 15,\n",
       " 15,\n",
       " 7,\n",
       " 10,\n",
       " 2,\n",
       " 18,\n",
       " 13,\n",
       " 9,\n",
       " 3,\n",
       " 1,\n",
       " 16,\n",
       " 15,\n",
       " 3,\n",
       " 16,\n",
       " 1,\n",
       " 2,\n",
       " 15,\n",
       " 16,\n",
       " 5,\n",
       " 18,\n",
       " 7,\n",
       " 5,\n",
       " 14,\n",
       " 8,\n",
       " 16,\n",
       " 2,\n",
       " 2,\n",
       " 16,\n",
       " 15,\n",
       " 1,\n",
       " 18,\n",
       " 12,\n",
       " 5,\n",
       " 7,\n",
       " 3,\n",
       " 8,\n",
       " 12,\n",
       " 2,\n",
       " 15,\n",
       " 13,\n",
       " 7,\n",
       " 4,\n",
       " 17,\n",
       " 8,\n",
       " 10]"
      ]
     },
     "execution_count": 5,
     "metadata": {},
     "output_type": "execute_result"
    }
   ],
   "source": [
    "df_labels = pd.DataFrame(labels, columns=['emotion'])\n",
    "list_emotions = list(df_labels.groupby('emotion').count().index)\n",
    "emotions = [list_emotions.index(l) for l in labels]\n",
    "emotions"
   ]
  },
  {
   "cell_type": "code",
   "execution_count": 6,
   "metadata": {},
   "outputs": [],
   "source": [
    "list_emotions = ['miserable',\n",
    " 'angry',\n",
    " 'scary',\n",
    " 'afraid',\n",
    " 'nervous',\n",
    " 'sad',\n",
    " 'tired'\n",
    " 'annoyed',\n",
    " 'bored',\n",
    " 'neutral',\n",
    " 'mix',\n",
    " 'ballet',\n",
    " 'relaxed',\n",
    " 'curiosity',\n",
    " 'satisfied',\n",
    " 'pleased',\n",
    " 'active',\n",
    " 'happy',\n",
    " 'excited']"
   ]
  },
  {
   "cell_type": "markdown",
   "metadata": {},
   "source": [
    "Performing the Partial Least Square Regression using the sklearn package"
   ]
  },
  {
   "cell_type": "code",
   "execution_count": 20,
   "metadata": {},
   "outputs": [],
   "source": [
    "from sklearn.cross_decomposition import PLSRegression\n",
    "y=emotions\n",
    "n_comp=2 # On 2-D\n",
    "pls_obj=PLSRegression(n_components=n_comp)\n",
    "factorsPLS=pls_obj.fit_transform(total_array, y)[0]"
   ]
  },
  {
   "cell_type": "code",
   "execution_count": 25,
   "metadata": {},
   "outputs": [
    {
     "data": {
      "text/plain": [
       "<matplotlib.collections.PathCollection at 0x7fc5adb3b5e0>"
      ]
     },
     "execution_count": 25,
     "metadata": {},
     "output_type": "execute_result"
    },
    {
     "data": {
      "image/png": "[encoded data removed]",
      "text/plain": [
       "<Figure size 720x720 with 1 Axes>"
      ]
     },
     "metadata": {
      "needs_background": "light"
     },
     "output_type": "display_data"
    }
   ],
   "source": [
    "plt.figure(figsize=(10, 10))\n",
    "plt.scatter(factorsPLS[:,0], factorsPLS[:,1], c=y, cmap='RdBu', alpha=0.5)"
   ]
  },
  {
   "cell_type": "code",
   "execution_count": null,
   "metadata": {},
   "outputs": [],
   "source": []
  }
 ],
 "metadata": {
  "kernelspec": {
   "display_name": "Python 3",
   "language": "python",
   "name": "python3"
  },
  "language_info": {
   "codemirror_mode": {
    "name": "ipython",
    "version": 3
   },
   "file_extension": ".py",
   "mimetype": "text/x-python",
   "name": "python",
   "nbconvert_exporter": "python",
   "pygments_lexer": "ipython3",
   "version": "3.8.3"
  }
 },
 "nbformat": 4,
 "nbformat_minor": 4
}
